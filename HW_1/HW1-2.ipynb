{
 "cells": [
  {
   "cell_type": "markdown",
   "metadata": {},
   "source": [
    "# 0. Наибольший общий делитель - 1 балл\n",
    "Напишите функцию, которая на вход принимает два целых числа, а на выходе отдает их наибольших общий делитель. \n",
    "\n",
    "Пример\n",
    "\n",
    "Ввод \n",
    "\n",
    "`lcd(10,2)`\n",
    "\n",
    "Вывод\n",
    "\n",
    "`2`\n",
    "\n",
    "Пример\n",
    "\n",
    "Ввод \n",
    "\n",
    "`lcd(10,25)`\n",
    "\n",
    "Вывод\n",
    "\n",
    "`5`"
   ]
  },
  {
   "cell_type": "code",
   "execution_count": 2,
   "metadata": {},
   "outputs": [
    {
     "name": "stdout",
     "output_type": "stream",
     "text": [
      "2\n",
      "5\n"
     ]
    }
   ],
   "source": [
    "def lcd(a, b):\n",
    "    while b:\n",
    "        a, b = b, a%b\n",
    "    return a\n",
    "\n",
    "print(lcd(10,2))\n",
    "print(lcd(10,25))"
   ]
  },
  {
   "cell_type": "markdown",
   "metadata": {},
   "source": [
    "# 1. Задачка про перевод из `camel_case`'a в `snake_case` - 1.5 балла\n",
    " Напишите функцию, которая на вход принимает строку, записанную в `CamelCase`, а переводит ее в `snake_case`.\n",
    " Подсказка: идите по строке циклом, обрабатывайте каждый символ, если символ заглавный, к обработанным ранее добавляйте нижнее подчеркивание и нынешний переводите в `lower case` \n",
    " \n",
    " Пример:\n",
    "\n",
    "**Вход**: `'camelCaseVar'`\n",
    "\n",
    "**Выход**: `'camel_сase_var'`"
   ]
  },
  {
   "cell_type": "code",
   "execution_count": 6,
   "metadata": {},
   "outputs": [
    {
     "data": {
      "text/plain": [
       "'camel_case_var'"
      ]
     },
     "execution_count": 6,
     "metadata": {},
     "output_type": "execute_result"
    }
   ],
   "source": [
    "def case_changer(s: str):\n",
    "    res = \"\"\n",
    "    for c in s:\n",
    "        if not c.islower():\n",
    "            res += \"_\" + c.lower()\n",
    "        else:\n",
    "            res += c\n",
    "    return res\n",
    "\n",
    "case_changer(\"camelCaseVar\")"
   ]
  },
  {
   "cell_type": "markdown",
   "metadata": {},
   "source": [
    "# 2. Про Поросёнка Петра - 2 балла\n",
    "На плоскости в точке `(0,0)` стоит Поросёнок Пётр. Он умеет ходить налево, направо, вверх и вниз. Расстояние его прохода в какую-либо сторону измеряется в шагах. Когда он идет вправо, его первая координата увеличивается, когда влево - уменьшается. Когда он идет вверх, его вторая координата увеличивается, а когда вниз - уменьшается.\n",
    "С клавиатуры считывается число `N` - число ходов, которые сделает Пётр. После чего на каждом шаге спрашивается, сколько шагов и в какую сторону за этот ход Пётр сделает. Так происходит, пока Пётр не осуществит все N ходов.\n",
    "Программа должна вывести, сколько шагов Пётр должен был бы сделать, чтобы кратчайшим путем прибыть из свое начальной точки `(0,0)` в свою конечную точку. \n",
    "\n",
    "Напоминание: Пётр умеет ходить только вверх-вниз, и влево-вправо, но не по диагонали.\n",
    "\n",
    "Пример ввода:\n",
    "\n",
    "Введите N: `3`\n",
    "\n",
    "Ход 1: `Вверх 1`\n",
    "\n",
    "Ход 2: `Вниз 1`\n",
    "\n",
    "Ход 3: `Вверх 1`\n",
    "\n",
    "Пример вывода:\n",
    "`Пётр находится на расстоянии 1 от (0,0)`"
   ]
  },
  {
   "cell_type": "code",
   "execution_count": 8,
   "metadata": {},
   "outputs": [
    {
     "name": "stdout",
     "output_type": "stream",
     "text": [
      "4\n",
      "Вверх 20\n",
      "Вправо 20\n",
      "Влево 4\n",
      "Вверх 2\n",
      "38\n"
     ]
    }
   ],
   "source": [
    "N = int(input())\n",
    "point = (0, 0)\n",
    "\n",
    "for step in range(N):\n",
    "    direction, val = input().split()\n",
    "    val = int(val)\n",
    "    if direction == \"Вверх\":\n",
    "        point = (point[0], point[1] + val)\n",
    "    elif direction == \"Вниз\":\n",
    "        point = (point[0], point[1] - val)\n",
    "    elif direction == \"Вправо\":\n",
    "        point = (point[0] + val, point[1])\n",
    "    elif direction == \"Влево\":\n",
    "        point = (point[0] - val, point[1])\n",
    "    else:\n",
    "        print(\"Wrong direction!\")\n",
    "\n",
    "print(point[0] + point[1])"
   ]
  },
  {
   "cell_type": "code",
   "execution_count": null,
   "metadata": {},
   "outputs": [],
   "source": []
  },
  {
   "cell_type": "markdown",
   "metadata": {},
   "source": [
    "# 3. Sort the keys of the dictionary from a to z.  - 0.5 балла"
   ]
  },
  {
   "cell_type": "code",
   "execution_count": 9,
   "metadata": {},
   "outputs": [
    {
     "data": {
      "text/plain": [
       "{'cheesecake': 4, 'chocolate': 2, 'pudding': 3, 'tiramisu': 5}"
      ]
     },
     "execution_count": 9,
     "metadata": {},
     "output_type": "execute_result"
    }
   ],
   "source": [
    "d_= {\"tiramisu\":5, \"chocolate\":2, \"pudding\":3, \"cheesecake\":4}\n",
    "\n",
    "def sort_dict_by_keys(d: dict):\n",
    "    return dict(sorted(d.items(), key=lambda x: x[0]))\n",
    "\n",
    "sort_dict_by_keys(d_)"
   ]
  },
  {
   "cell_type": "markdown",
   "metadata": {},
   "source": [
    "# 4. Compare three values, return true only if 2 or more values are equal - 0.5 балла"
   ]
  },
  {
   "cell_type": "code",
   "execution_count": 13,
   "metadata": {},
   "outputs": [
    {
     "name": "stdout",
     "output_type": "stream",
     "text": [
      "True\n",
      "False\n",
      "True\n"
     ]
    }
   ],
   "source": [
    "def check_equal(a, b, c):\n",
    "    if a == c == b:\n",
    "        return True\n",
    "    elif a == c:\n",
    "        return True\n",
    "    elif a == b:\n",
    "        return True\n",
    "    elif c == b:\n",
    "        return True\n",
    "    return False\n",
    "\n",
    "print(check_equal(1, 2, 1))\n",
    "print(check_equal(1, 2, 3))\n",
    "print(check_equal(1, 1, 1))"
   ]
  },
  {
   "cell_type": "markdown",
   "metadata": {},
   "source": [
    "# 5. Given a list with pairs, sort on the sum of pairs - 0.5 балла"
   ]
  },
  {
   "cell_type": "code",
   "execution_count": 15,
   "metadata": {},
   "outputs": [
    {
     "data": {
      "text/plain": [
       "[(3, 1), (3, 6), (4, 7), (8, 4), (5, 9)]"
      ]
     },
     "execution_count": 15,
     "metadata": {},
     "output_type": "execute_result"
    }
   ],
   "source": [
    "x = [(3,6),(4,7),(5,9),(8,4),(3,1)]\n",
    "\n",
    "def sort_list(arr: list):\n",
    "    return sorted(x, key=lambda val: val[0] + val[1])\n",
    "\n",
    "sort_list(x)"
   ]
  },
  {
   "cell_type": "markdown",
   "metadata": {},
   "source": [
    "# 6. Create a function that takes a list of numbers. Return the largest number in the list. - 0.5 балла"
   ]
  },
  {
   "cell_type": "code",
   "execution_count": 16,
   "metadata": {},
   "outputs": [],
   "source": [
    "def findLargestNum(arr: list):\n",
    "    return max(arr)"
   ]
  },
  {
   "cell_type": "code",
   "execution_count": 17,
   "metadata": {},
   "outputs": [
    {
     "name": "stdout",
     "output_type": "stream",
     "text": [
      "5\n",
      "600\n",
      "1001\n"
     ]
    }
   ],
   "source": [
    "print(findLargestNum([4, 5, 1, 3]))\n",
    "\n",
    "print(findLargestNum([300, 200, 600, 150]))\n",
    "\n",
    "print(findLargestNum([1000, 1001, 857, 1]))"
   ]
  },
  {
   "cell_type": "code",
   "execution_count": 18,
   "metadata": {},
   "outputs": [
    {
     "ename": "SyntaxError",
     "evalue": "invalid character in identifier (<ipython-input-18-255a19dd6fbe>, line 1)",
     "output_type": "error",
     "traceback": [
      "\u001b[1;36m  File \u001b[1;32m\"<ipython-input-18-255a19dd6fbe>\"\u001b[1;36m, line \u001b[1;32m1\u001b[0m\n\u001b[1;33m    findLargestNum([4, 5, 1, 3]) ➞ 5\u001b[0m\n\u001b[1;37m                                 ^\u001b[0m\n\u001b[1;31mSyntaxError\u001b[0m\u001b[1;31m:\u001b[0m invalid character in identifier\n"
     ]
    }
   ],
   "source": [
    "findLargestNum([4, 5, 1, 3]) ➞ 5\n",
    "\n",
    "findLargestNum([300, 200, 600, 150]) ➞ 600\n",
    "\n",
    "findLargestNum([1000, 1001, 857, 1]) ➞ 1001"
   ]
  },
  {
   "cell_type": "markdown",
   "metadata": {},
   "source": [
    "# 7. Create a function that takes a string and returns the concatenated first and last character. - 0.5 балла"
   ]
  },
  {
   "cell_type": "code",
   "execution_count": 19,
   "metadata": {},
   "outputs": [],
   "source": [
    "def repetition(s :str, n: int):\n",
    "    return s * n"
   ]
  },
  {
   "cell_type": "code",
   "execution_count": 20,
   "metadata": {},
   "outputs": [
    {
     "name": "stdout",
     "output_type": "stream",
     "text": [
      "ababab\n",
      "kiwi\n",
      "cherrycherry\n"
     ]
    }
   ],
   "source": [
    "print(repetition(\"ab\", 3))\n",
    "\n",
    "print(repetition(\"kiwi\", 1))\n",
    "\n",
    "print(repetition(\"cherry\", 2))"
   ]
  },
  {
   "cell_type": "code",
   "execution_count": null,
   "metadata": {},
   "outputs": [],
   "source": [
    "repetition(\"ab\", 3) ➞ \"ababab\"\n",
    "\n",
    "repetition(\"kiwi\", 1) ➞ \"kiwi\"\n",
    "\n",
    "repetition(\"cherry\", 2) ➞ \"cherrycherry\""
   ]
  },
  {
   "cell_type": "markdown",
   "metadata": {},
   "source": [
    "# 8. Create a function that takes a 2D list lst returns the sum of the minimum value in each row. - 0.5 балла"
   ]
  },
  {
   "cell_type": "code",
   "execution_count": 20,
   "metadata": {},
   "outputs": [],
   "source": [
    "def sum_minimums(arr: list):\n",
    "    res = 0\n",
    "    for row in arr:\n",
    "        res += min(row)\n",
    "    return res"
   ]
  },
  {
   "cell_type": "code",
   "execution_count": 23,
   "metadata": {},
   "outputs": [
    {
     "data": {
      "text/plain": [
       "26"
      ]
     },
     "execution_count": 23,
     "metadata": {},
     "output_type": "execute_result"
    }
   ],
   "source": [
    "sum_minimums([\n",
    "  [1, 2, 3, 4, 5],\n",
    "  [5, 6, 7, 8, 9],\n",
    "  [20, 21, 34, 56, 100]\n",
    "])"
   ]
  },
  {
   "cell_type": "code",
   "execution_count": 21,
   "metadata": {},
   "outputs": [
    {
     "ename": "SyntaxError",
     "evalue": "invalid character in identifier (<ipython-input-21-9a140f85775a>, line 5)",
     "output_type": "error",
     "traceback": [
      "\u001b[1;36m  File \u001b[1;32m\"<ipython-input-21-9a140f85775a>\"\u001b[1;36m, line \u001b[1;32m5\u001b[0m\n\u001b[1;33m    ] ➞ 26\u001b[0m\n\u001b[1;37m      ^\u001b[0m\n\u001b[1;31mSyntaxError\u001b[0m\u001b[1;31m:\u001b[0m invalid character in identifier\n"
     ]
    }
   ],
   "source": [
    "sum_minimums([\n",
    "  [1, 2, 3, 4, 5],\n",
    "  [5, 6, 7, 8, 9],\n",
    "  [20, 21, 34, 56, 100]\n",
    "] ➞ 26\n",
    "\n",
    "# minimum value of the first row is 1\n",
    "# minimum value of the second row is 5\n",
    "# minimum value of the third row is 20"
   ]
  },
  {
   "cell_type": "markdown",
   "metadata": {},
   "source": [
    "# 9. Create a function to return the amount of potatoes there are in a string. - 0.5 балла"
   ]
  },
  {
   "cell_type": "code",
   "execution_count": 27,
   "metadata": {},
   "outputs": [],
   "source": [
    "def potatoes(s: str):\n",
    "    return s.count(\"potato\")"
   ]
  },
  {
   "cell_type": "code",
   "execution_count": 28,
   "metadata": {},
   "outputs": [
    {
     "name": "stdout",
     "output_type": "stream",
     "text": [
      "1\n",
      "2\n",
      "1\n"
     ]
    }
   ],
   "source": [
    "print(potatoes(\"potato\"))\n",
    "\n",
    "print(potatoes(\"potatopotato\"))\n",
    "\n",
    "print(potatoes(\"potatoapple\"))"
   ]
  },
  {
   "cell_type": "code",
   "execution_count": null,
   "metadata": {},
   "outputs": [],
   "source": [
    "potatoes(\"potato\") ➞ 1\n",
    "\n",
    "potatoes(\"potatopotato\") ➞ 2\n",
    "\n",
    "potatoes(\"potatoapple\") ➞ 1"
   ]
  },
  {
   "cell_type": "markdown",
   "metadata": {},
   "source": [
    "# 10. Create a function that takes a list of integers as an argument and returns a unique number from that list. All numbers except unique ones have the same number of occurrences in the list. - 0.5 балла"
   ]
  },
  {
   "cell_type": "code",
   "execution_count": 26,
   "metadata": {},
   "outputs": [],
   "source": [
    "def find_single_number(arr: list):\n",
    "    if len(arr) == 0:\n",
    "        return None\n",
    "    elif len(arr) == 1:\n",
    "        return arr[0]\n",
    "    counter = {}\n",
    "    for i in arr:\n",
    "        if i in counter.keys():\n",
    "            counter[i] += 1\n",
    "        else:\n",
    "            counter[i] = 1\n",
    "    for key, val in counter.items():\n",
    "        if val == 1:\n",
    "            return key\n"
   ]
  },
  {
   "cell_type": "code",
   "execution_count": 27,
   "metadata": {},
   "outputs": [
    {
     "name": "stdout",
     "output_type": "stream",
     "text": [
      "3\n",
      "2\n",
      "None\n",
      "8\n",
      "101\n"
     ]
    }
   ],
   "source": [
    "print(find_single_number([2, 2, 2, 3, 4, 4, 4]))\n",
    "\n",
    "print(find_single_number([2]))\n",
    "\n",
    "print(find_single_number([]))\n",
    "\n",
    "print(find_single_number([7, 13, 3, 6, 5, 4, 4, 13, 5, 3, 6, 7, 6, 5, 3, 13, 4, 7, 13, 5, 7, 4, 3, 6, 8, 4, 3, 7, 5, 6, 13]))\n",
    "\n",
    "print(find_single_number([1, 2, 3, 6, 5, 4, 4, 2, 5, 3, 6, 1, 6, 5, 3, 2, 4, 1, 2, 5, 1, 4, 3, 6, 101, 4, 3, 1, 5, 6, 2]))"
   ]
  },
  {
   "cell_type": "code",
   "execution_count": 28,
   "metadata": {},
   "outputs": [
    {
     "ename": "SyntaxError",
     "evalue": "invalid character in identifier (<ipython-input-28-db2c580f3f4e>, line 1)",
     "output_type": "error",
     "traceback": [
      "\u001b[1;36m  File \u001b[1;32m\"<ipython-input-28-db2c580f3f4e>\"\u001b[1;36m, line \u001b[1;32m1\u001b[0m\n\u001b[1;33m    find_single_number([2, 2, 2, 3, 4, 4, 4]) ➞ 3\u001b[0m\n\u001b[1;37m                                              ^\u001b[0m\n\u001b[1;31mSyntaxError\u001b[0m\u001b[1;31m:\u001b[0m invalid character in identifier\n"
     ]
    }
   ],
   "source": [
    "find_single_number([2, 2, 2, 3, 4, 4, 4]) ➞ 3\n",
    "\n",
    "find_single_number([2]) ➞ 2\n",
    "\n",
    "find_single_number([]) ➞ None\n",
    "\n",
    "find_single_number([7, 13, 3, 6, 5, 4, 4, 13, 5, 3, 6, 7, 6, 5, 3, 13, 4, 7, 13, 5, 7, 4, 3, 6, 8, 4, 3, 7, 5, 6, 13]) ➞ 8\n",
    "\n",
    "find_single_number([1, 2, 3, 6, 5, 4, 4, 2, 5, 3, 6, 1, 6, 5, 3, 2, 4, 1, 2, 5, 1, 4, 3, 6, 101, 4, 3, 1, 5, 6, 2]) ➞ 101\n"
   ]
  },
  {
   "cell_type": "markdown",
   "metadata": {},
   "source": [
    "# 11. Given a letter and a list of words, return whether the letter does not appear in any of the words. - 0.5 балла"
   ]
  },
  {
   "cell_type": "code",
   "execution_count": 30,
   "metadata": {},
   "outputs": [],
   "source": [
    "def forbidden_letter(letter: str, arr: list):\n",
    "    for word in arr:\n",
    "        if letter in word:\n",
    "            return False\n",
    "    return True"
   ]
  },
  {
   "cell_type": "code",
   "execution_count": 31,
   "metadata": {},
   "outputs": [
    {
     "name": "stdout",
     "output_type": "stream",
     "text": [
      "False\n",
      "True\n",
      "True\n"
     ]
    }
   ],
   "source": [
    "print(forbidden_letter(\"r\", [\"rock\", \"paper\", \"scissors\"]))\n",
    "\n",
    "print(forbidden_letter(\"a\", [\"spoon\", \"fork\", \"knife\"]))\n",
    "\n",
    "print(forbidden_letter(\"m\", []))"
   ]
  },
  {
   "cell_type": "code",
   "execution_count": null,
   "metadata": {},
   "outputs": [],
   "source": [
    "forbidden_letter(\"r\", [\"rock\", \"paper\", \"scissors\"]) ➞ False\n",
    "\n",
    "forbidden_letter(\"a\", [\"spoon\", \"fork\", \"knife\"]) ➞ True\n",
    "\n",
    "forbidden_letter(\"m\", []) ➞ True"
   ]
  },
  {
   "cell_type": "markdown",
   "metadata": {},
   "source": [
    "# 12.  Define a function which create a Pattern like this one.  - 2 балла"
   ]
  },
  {
   "cell_type": "code",
   "execution_count": null,
   "metadata": {},
   "outputs": [],
   "source": [
    "Input: 4\n",
    "Pattern:\n",
    "\n",
    " 01234\n",
    "  | |     0\n",
    " -----    1\n",
    "  | |     2\n",
    " -----    3\n",
    "  | |     4"
   ]
  },
  {
   "cell_type": "code",
   "execution_count": 38,
   "metadata": {},
   "outputs": [
    {
     "name": "stdout",
     "output_type": "stream",
     "text": [
      "01234\n",
      " | |     0\n",
      "-----    1\n",
      " | |     2\n",
      "-----    3\n",
      " | |     4\n",
      "\n"
     ]
    }
   ],
   "source": [
    "def get_pattern(n: int):\n",
    "    line = \"\"\n",
    "    for i in range(n + 1):\n",
    "        line += str(i)\n",
    "    line += \"\\n\"\n",
    "    for i in range(n + 1):\n",
    "        if i % 2 == 0:\n",
    "            for j in range(n + 1):\n",
    "                if j % 2 == 0:\n",
    "                    line += \" \"\n",
    "                else:\n",
    "                    line += \"|\"\n",
    "        else:\n",
    "            line += \"-\" * (n + 1)\n",
    "        line += \" \" * 4 + str(i) + \"\\n\"\n",
    "    return line\n",
    "\n",
    "print(get_pattern(4))"
   ]
  },
  {
   "cell_type": "markdown",
   "metadata": {},
   "source": [
    "# 13. Create a function that takes three numbers as arguments and returns True if it's a triangle and False if not.  - 0.5 балла"
   ]
  },
  {
   "cell_type": "code",
   "execution_count": 41,
   "metadata": {},
   "outputs": [],
   "source": [
    "def is_triangle(a: int, b: int, c: int):\n",
    "    if a < b + c and b < a + c and c < b + a:\n",
    "        return True\n",
    "    return False"
   ]
  },
  {
   "cell_type": "code",
   "execution_count": 42,
   "metadata": {},
   "outputs": [
    {
     "name": "stdout",
     "output_type": "stream",
     "text": [
      "True\n",
      "True\n",
      "False\n"
     ]
    }
   ],
   "source": [
    "print(is_triangle(2, 3, 4))\n",
    "\n",
    "print(is_triangle(3, 4, 5))\n",
    "\n",
    "print(is_triangle(4, 3, 8))"
   ]
  },
  {
   "cell_type": "code",
   "execution_count": null,
   "metadata": {},
   "outputs": [],
   "source": [
    "is_triangle(2, 3, 4) ➞ True\n",
    "\n",
    "is_triangle(3, 4, 5) ➞ True\n",
    "\n",
    "is_triangle(4, 3, 8) ➞ False"
   ]
  },
  {
   "cell_type": "markdown",
   "metadata": {},
   "source": [
    "# 14. Create a \"Code\" Generator that takes text as input and replaces some letter with another letter, and outputs the \"encoded\" message. Create funcs to encode and decode messages"
   ]
  },
  {
   "cell_type": "code",
   "execution_count": 44,
   "metadata": {},
   "outputs": [
    {
     "name": "stdout",
     "output_type": "stream",
     "text": [
      "bbbfff111\n",
      "aaafffddd\n"
     ]
    }
   ],
   "source": [
    "def encoder(text: str, replace: dict):\n",
    "    for key, val in replace.items():\n",
    "        text = text.replace(key, val)\n",
    "    return text\n",
    "\n",
    "def decoder(text: str, replace: dict):\n",
    "    for key, val in replace.items():\n",
    "        text = text.replace(val, key)\n",
    "    return text\n",
    "\n",
    "\n",
    "replacement = {\"a\": \"b\", \"d\": \"1\"}\n",
    "text = \"aaafffddd\"\n",
    "coded = encoder(text, replacement)\n",
    "\n",
    "print(coded)\n",
    "\n",
    "print(decoder(coded, replacement))"
   ]
  },
  {
   "cell_type": "code",
   "execution_count": null,
   "metadata": {},
   "outputs": [],
   "source": [
    "replacement = {\"a\": \"b\", \"d\": \"1\" ......}"
   ]
  }
 ],
 "metadata": {
  "kernelspec": {
   "display_name": "Python 3",
   "language": "python",
   "name": "python3"
  },
  "language_info": {
   "codemirror_mode": {
    "name": "ipython",
    "version": 3
   },
   "file_extension": ".py",
   "mimetype": "text/x-python",
   "name": "python",
   "nbconvert_exporter": "python",
   "pygments_lexer": "ipython3",
   "version": "3.7.1"
  }
 },
 "nbformat": 4,
 "nbformat_minor": 5
}
